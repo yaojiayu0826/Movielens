{
 "cells": [
  {
   "cell_type": "code",
   "execution_count": 1,
   "metadata": {
    "collapsed": false
   },
   "outputs": [],
   "source": [
    "# Run some recommendation experiments using MovieLens 100K\n",
    "import pandas\n",
    "import numpy\n",
    "import scipy.sparse\n",
    "import scipy.sparse.linalg\n",
    "import matplotlib.pyplot as plt\n",
    "from sklearn.metrics import mean_absolute_error\n",
    "from sklearn.metrics import mean_squared_error\n",
    "from sklearn.model_selection import train_test_split\n",
    "import random\n",
    "%matplotlib inline\n",
    "data_dir = \"1m/ratings.dat\"\n",
    "data_shape = (6040, 3952)\n",
    "\n",
    "df = pandas.read_csv(data_dir , sep=\"::\",engine=\"python\",header = None)\n"
   ]
  },
  {
   "cell_type": "code",
   "execution_count": 2,
   "metadata": {
    "collapsed": false
   },
   "outputs": [
    {
     "data": {
      "text/html": [
       "<div>\n",
       "<table border=\"1\" class=\"dataframe\">\n",
       "  <thead>\n",
       "    <tr style=\"text-align: right;\">\n",
       "      <th></th>\n",
       "      <th>0</th>\n",
       "      <th>1</th>\n",
       "      <th>2</th>\n",
       "      <th>3</th>\n",
       "    </tr>\n",
       "  </thead>\n",
       "  <tbody>\n",
       "    <tr>\n",
       "      <th>0</th>\n",
       "      <td>1</td>\n",
       "      <td>1193</td>\n",
       "      <td>5</td>\n",
       "      <td>978300760</td>\n",
       "    </tr>\n",
       "    <tr>\n",
       "      <th>1</th>\n",
       "      <td>1</td>\n",
       "      <td>661</td>\n",
       "      <td>3</td>\n",
       "      <td>978302109</td>\n",
       "    </tr>\n",
       "    <tr>\n",
       "      <th>2</th>\n",
       "      <td>1</td>\n",
       "      <td>914</td>\n",
       "      <td>3</td>\n",
       "      <td>978301968</td>\n",
       "    </tr>\n",
       "    <tr>\n",
       "      <th>3</th>\n",
       "      <td>1</td>\n",
       "      <td>3408</td>\n",
       "      <td>4</td>\n",
       "      <td>978300275</td>\n",
       "    </tr>\n",
       "    <tr>\n",
       "      <th>4</th>\n",
       "      <td>1</td>\n",
       "      <td>2355</td>\n",
       "      <td>5</td>\n",
       "      <td>978824291</td>\n",
       "    </tr>\n",
       "  </tbody>\n",
       "</table>\n",
       "</div>"
      ],
      "text/plain": [
       "   0     1  2          3\n",
       "0  1  1193  5  978300760\n",
       "1  1   661  3  978302109\n",
       "2  1   914  3  978301968\n",
       "3  1  3408  4  978300275\n",
       "4  1  2355  5  978824291"
      ]
     },
     "execution_count": 2,
     "metadata": {},
     "output_type": "execute_result"
    }
   ],
   "source": [
    "df.head()"
   ]
  },
  {
   "cell_type": "code",
   "execution_count": 3,
   "metadata": {
    "collapsed": false
   },
   "outputs": [],
   "source": [
    "values = df.values\n",
    "values[:, 0:2] -= 1\n",
    "train_value,test_value = train_test_split(values)"
   ]
  },
  {
   "cell_type": "code",
   "execution_count": 4,
   "metadata": {
    "collapsed": false
   },
   "outputs": [
    {
     "name": "stdout",
     "output_type": "stream",
     "text": [
      "(2, 0.97614491185106333, 0.98950683996226252)\n",
      "(3, 0.96995586220782604, 0.98547452898609122)\n",
      "(4, 0.9641802594847203, 0.98160839243599052)\n",
      "(5, 0.95936750217049604, 0.97850320973484461)\n",
      "(6, 0.95492622823415896, 0.97575207109041007)\n",
      "(7, 0.95112839471862709, 0.97370474630072257)\n",
      "(8, 0.94759718497765955, 0.97209365145153481)\n",
      "(9, 0.94441611956027283, 0.97089409520241454)\n",
      "(10, 0.94135008178189017, 0.96956365895674501)\n",
      "(11, 0.93859576358046193, 0.96888544041810976)\n",
      "(12, 0.93587913027815051, 0.96804003688636431)\n",
      "(13, 0.93339905990895067, 0.96755817390491516)\n",
      "(14, 0.93070132354361068, 0.96681061644883182)\n",
      "(15, 0.92825989596714265, 0.96637532460457498)\n",
      "(16, 0.92581758571401274, 0.96581589641571863)\n",
      "(17, 0.92347379371813354, 0.96550632061338082)\n",
      "(18, 0.92118836621020939, 0.96529382222707338)\n",
      "(19, 0.91901116355546419, 0.96526755654592089)\n",
      "(20, 0.91682785705933389, 0.9651681112186774)\n",
      "(21, 0.91474387036044358, 0.96525900197587322)\n",
      "(22, 0.91265501739169097, 0.96523502396496386)\n",
      "(23, 0.91064405787571923, 0.96538347035546435)\n",
      "(24, 0.90861924821669127, 0.9655804799475507)\n",
      "(25, 0.90666573194985278, 0.96568378125398557)\n",
      "(26, 0.90470295021536296, 0.96578379053772312)\n",
      "(27, 0.90280508983161767, 0.96589666185535816)\n",
      "(28, 0.90090463489501871, 0.96608599522959815)\n",
      "(29, 0.89903378287652969, 0.96640127294248124)\n",
      "(30, 0.89717778605414034, 0.96653867262386495)\n",
      "(31, 0.89535762783119754, 0.96669360141563387)\n",
      "(32, 0.89357740747181802, 0.96686707368628977)\n",
      "(33, 0.8917768397704342, 0.96699323193096431)\n",
      "(34, 0.88998441164813669, 0.96723590553042649)\n",
      "(35, 0.88827205436807843, 0.96741496210979416)\n",
      "(36, 0.8865464356292031, 0.96763361821985161)\n",
      "(37, 0.88482652381898963, 0.96755540625600567)\n",
      "(38, 0.88303858043040828, 0.96783885359181321)\n",
      "(39, 0.88132568619647755, 0.96806986439874021)\n",
      "(40, 0.8796326292633545, 0.96815054163928083)\n",
      "(41, 0.87800552837274648, 0.9684993118964168)\n",
      "(42, 0.87631429363972624, 0.96866672764231754)\n",
      "(43, 0.87466338960771173, 0.96883380797370044)\n",
      "(44, 0.87303627693343555, 0.9689939061989209)\n",
      "(45, 0.87139751069115789, 0.96918898130423659)\n",
      "(46, 0.86976303129576171, 0.96951916519265335)\n",
      "(47, 0.86818075031839625, 0.96974580727959137)\n",
      "(48, 0.86653331181378179, 0.97000954877580292)\n",
      "(49, 0.86490900216845723, 0.97026025564085439)\n"
     ]
    },
    {
     "data": {
      "image/png": "[encoded data removed]",
      "text/plain": [
       "<matplotlib.figure.Figure at 0x107dd89d0>"
      ]
     },
     "metadata": {},
     "output_type": "display_data"
    }
   ],
   "source": [
    "values = train_value\n",
    "X_train = scipy.sparse.csr_matrix((values[:, 2], (values[:, 0], values[:, 1])), dtype=numpy.float, shape=data_shape)\n",
    "\n",
    "values = test_value\n",
    "X_test = scipy.sparse.csr_matrix((values[:, 2], (values[:, 0], values[:, 1])), dtype=numpy.float, shape=data_shape)\n",
    "\n",
    "# Compute means of nonzero elements\n",
    "X_row_mean = numpy.zeros(data_shape[0])\n",
    "X_row_sum = numpy.zeros(data_shape[0])\n",
    "\n",
    "train_rows, train_cols = X_train.nonzero()\n",
    "\n",
    "# Iterate through nonzero elements to compute sums and counts of rows elements\n",
    "for i in range(train_rows.shape[0]):\n",
    "    X_row_mean[train_rows[i]] += X_train[train_rows[i], train_cols[i]]\n",
    "    X_row_sum[train_rows[i]] += 1\n",
    "\n",
    "# Note that (X_row_sum == 0) is required to prevent divide by zero\n",
    "X_row_mean /= X_row_sum + (X_row_sum == 0)\n",
    "\n",
    "# Subtract mean rating for each user\n",
    "for i in range(train_rows.shape[0]):\n",
    "    X_train[train_rows[i], train_cols[i]] -= X_row_mean[train_rows[i]]\n",
    "\n",
    "test_rows, test_cols = X_test.nonzero()\n",
    "for i in range(test_rows.shape[0]):\n",
    "    X_test[test_rows[i], test_cols[i]] -= X_row_mean[test_rows[i]]\n",
    "\n",
    "X_train = numpy.array(X_train.toarray())\n",
    "X_test = numpy.array(X_test.toarray())\n",
    "\n",
    "ks = numpy.arange(2, 50)\n",
    "train_mae = numpy.zeros(ks.shape[0])\n",
    "test_mae = numpy.zeros(ks.shape[0])\n",
    "train_scores = X_train[(train_rows, train_cols)]\n",
    "test_scores = X_test[(test_rows, test_cols)]\n",
    "\n",
    "# Now take SVD of X_train\n",
    "U, s, Vt = numpy.linalg.svd(X_train, full_matrices=False)\n",
    "\n",
    "for j, k in enumerate(ks):\n",
    "    X_pred = U[:, 0:k].dot(numpy.diag(s[0:k])).dot(Vt[0:k, :])\n",
    "\n",
    "    pred_train_scores = X_pred[(train_rows, train_cols)]\n",
    "    pred_test_scores = X_pred[(test_rows, test_cols)]\n",
    "\n",
    "    train_mae[j] = mean_squared_error(train_scores, pred_train_scores)**0.5\n",
    "    test_mae[j] = mean_squared_error(test_scores, pred_test_scores)**0.5\n",
    "\n",
    "    print(k,  train_mae[j], test_mae[j])\n",
    "\n",
    "plt.plot(ks, train_mae, 'k', label=\"Train\")\n",
    "plt.plot(ks, test_mae, 'r', label=\"Test\")\n",
    "plt.xlabel(\"k\")\n",
    "plt.ylabel(\"MAE\")\n",
    "plt.legend()\n",
    "plt.show()"
   ]
  },
  {
   "cell_type": "code",
   "execution_count": 6,
   "metadata": {
    "collapsed": false
   },
   "outputs": [
    {
     "data": {
      "text/plain": [
       "array([ 1.39694656, -0.60305344,  0.39694656, ..., -0.39240506,\n",
       "       -0.39240506, -0.39240506])"
      ]
     },
     "execution_count": 6,
     "metadata": {},
     "output_type": "execute_result"
    }
   ],
   "source": [
    "train_scores"
   ]
  },
  {
   "cell_type": "code",
   "execution_count": null,
   "metadata": {
    "collapsed": true
   },
   "outputs": [],
   "source": []
  }
 ],
 "metadata": {
  "anaconda-cloud": {},
  "kernelspec": {
   "display_name": "Python 2",
   "language": "python",
   "name": "python2"
  },
  "language_info": {
   "codemirror_mode": {
    "name": "ipython",
    "version": 2
   },
   "file_extension": ".py",
   "mimetype": "text/x-python",
   "name": "python",
   "nbconvert_exporter": "python",
   "pygments_lexer": "ipython2",
   "version": "2.7.10"
  }
 },
 "nbformat": 4,
 "nbformat_minor": 1
}
