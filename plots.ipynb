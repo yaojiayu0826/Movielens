{
 "cells": [
  {
   "cell_type": "code",
   "execution_count": 64,
   "metadata": {
    "collapsed": false
   },
   "outputs": [],
   "source": [
    "import pandas as pd\n",
    "import numpy as np\n",
    "import matplotlib.pyplot as plt\n",
    "%matplotlib inline"
   ]
  },
  {
   "cell_type": "code",
   "execution_count": 65,
   "metadata": {
    "collapsed": true
   },
   "outputs": [],
   "source": [
    "userdf = pd.read_csv('1m/users.dat',delimiter='::',header=None,engine='python')\n",
    "traindf = pd.read_csv('1m/train.dat',delimiter=',',header=None,engine='python')\n",
    "testdf = pd.read_csv('1m/test.dat',delimiter=',',header=None,engine='python')\n",
    "ratedf = pd.read_csv('1m/ratings.dat',delimiter='::',header=None,engine='python')\n",
    "moviedf = pd.read_csv('1m/movies.dat',index_col=0,delimiter='::',header=None,engine='python')"
   ]
  },
  {
   "cell_type": "code",
   "execution_count": 111,
   "metadata": {
    "collapsed": false
   },
   "outputs": [],
   "source": [
    "# group rating by user  ID\n",
    "user_gb = ratedf[2].groupby(ratedf[0])\n",
    "female = list()\n",
    "male = list()\n",
    "x = np.zeros(6040)\n",
    "y = np.zeros(6040)\n",
    "for i in range(1,6041):\n",
    "    rate = ratedf.loc[user_gb.groups[i]][2].mean()\n",
    "    y[i-1] = rate\n",
    "    if (userdf.loc[i-1])[1]=='F':\n",
    "        female.append(rate)\n",
    "        x[i-1] = 1\n",
    "    else: male.append(rate)\n",
    "    \n",
    "# # group rating by movie\n",
    "# movie_gb = ratedf.groupby(1)\n",
    "# # true rating\n",
    "# test_y = testdf[2]\n",
    "# movies = set(traindf[1])"
   ]
  },
  {
   "cell_type": "code",
   "execution_count": 116,
   "metadata": {
    "collapsed": false
   },
   "outputs": [
    {
     "data": {
      "text/plain": [
       "Ttest_indResult(statistic=3.1107603650137001, pvalue=0.001882101864779079)"
      ]
     },
     "execution_count": 116,
     "metadata": {},
     "output_type": "execute_result"
    }
   ],
   "source": [
    "from scipy.stats import ttest_ind\n",
    "ttest_ind(np.array(female),np.array(male),equal_var=False)"
   ]
  },
  {
   "cell_type": "code",
   "execution_count": 110,
   "metadata": {
    "collapsed": false
   },
   "outputs": [
    {
     "data": {
      "image/png": "[encoded data removed]",
      "text/plain": [
       "<matplotlib.figure.Figure at 0x106f30090>"
      ]
     },
     "metadata": {},
     "output_type": "display_data"
    }
   ],
   "source": [
    "plt.boxplot([male,female])\n",
    "plt.xticks([1, 2], ['Male', 'Female'])\n",
    "plt.title('Average Rating for Gender')\n",
    "plt.show()"
   ]
  },
  {
   "cell_type": "code",
   "execution_count": 167,
   "metadata": {
    "collapsed": false,
    "scrolled": false
   },
   "outputs": [],
   "source": [
    "age_dict = dict()\n",
    "for i in [1,18,25,35,45,50,56]:\n",
    "    age_dict[i]=list()\n",
    "for i in range(1,6041):\n",
    "    rate = ratedf.loc[user_gb.groups[i]][2].mean()\n",
    "    age_dict[(userdf.loc[i-1])[2]].append(rate)\n",
    "import operator\n",
    "age_dict = sorted(age_dict.items(), key=operator.itemgetter(0))"
   ]
  },
  {
   "cell_type": "code",
   "execution_count": 168,
   "metadata": {
    "collapsed": false
   },
   "outputs": [
    {
     "name": "stdout",
     "output_type": "stream",
     "text": [
      "0 1 0.99109038984\n",
      "0 2 0.156987507138\n",
      "0 3 0.000345206461194\n",
      "0 4 4.19270238447e-05\n",
      "0 5 2.70360772246e-06\n",
      "0 6 9.56205932059e-08\n",
      "1 2 0.00377566931131\n",
      "1 3 1.20680559166e-11\n",
      "1 4 1.82531305707e-11\n",
      "1 5 5.0541177998e-14\n",
      "1 6 1.09659247046e-14\n",
      "2 3 4.7824115739e-07\n",
      "2 4 2.22189887885e-07\n",
      "2 5 9.1824638934e-10\n",
      "2 6 8.21913685205e-11\n",
      "3 4 0.19486828815\n",
      "3 5 0.01832292423\n",
      "3 6 0.000586197761593\n",
      "4 5 0.337827068173\n",
      "4 6 0.0310929064853\n",
      "5 6 0.194568831644\n"
     ]
    }
   ],
   "source": [
    "ages = [v[1] for v in age_dict]\n",
    "for i in range(7):\n",
    "    for j in range(7):\n",
    "        if j > i: \n",
    "            t,p = ttest_ind(np.array(ages[i]),np.array(ages[j]),equal_var=False)\n",
    "            print i,j,p"
   ]
  },
  {
   "cell_type": "code",
   "execution_count": 169,
   "metadata": {
    "collapsed": false,
    "scrolled": false
   },
   "outputs": [
    {
     "ename": "AttributeError",
     "evalue": "'list' object has no attribute 'keys'",
     "output_type": "error",
     "traceback": [
      "\u001b[0;31m---------------------------------------------------------------------------\u001b[0m",
      "\u001b[0;31mAttributeError\u001b[0m                            Traceback (most recent call last)",
      "\u001b[0;32m<ipython-input-169-ca66f6cddf50>\u001b[0m in \u001b[0;36m<module>\u001b[0;34m()\u001b[0m\n\u001b[1;32m      1\u001b[0m \u001b[0mplt\u001b[0m\u001b[0;34m.\u001b[0m\u001b[0mboxplot\u001b[0m\u001b[0;34m(\u001b[0m\u001b[0;34m[\u001b[0m\u001b[0mv\u001b[0m\u001b[0;34m[\u001b[0m\u001b[0;36m1\u001b[0m\u001b[0;34m]\u001b[0m \u001b[0;32mfor\u001b[0m \u001b[0mv\u001b[0m \u001b[0;32min\u001b[0m \u001b[0mage_dict\u001b[0m\u001b[0;34m]\u001b[0m\u001b[0;34m)\u001b[0m\u001b[0;34m\u001b[0m\u001b[0m\n\u001b[0;32m----> 2\u001b[0;31m \u001b[0;32mprint\u001b[0m \u001b[0;34m[\u001b[0m\u001b[0mk\u001b[0m \u001b[0;32mfor\u001b[0m \u001b[0mk\u001b[0m \u001b[0;32min\u001b[0m \u001b[0mage_dict\u001b[0m\u001b[0;34m.\u001b[0m\u001b[0mkeys\u001b[0m\u001b[0;34m(\u001b[0m\u001b[0;34m)\u001b[0m\u001b[0;34m]\u001b[0m\u001b[0;34m\u001b[0m\u001b[0m\n\u001b[0m\u001b[1;32m      3\u001b[0m \u001b[0mplt\u001b[0m\u001b[0;34m.\u001b[0m\u001b[0mxticks\u001b[0m\u001b[0;34m(\u001b[0m\u001b[0;34m[\u001b[0m\u001b[0;36m1\u001b[0m\u001b[0;34m,\u001b[0m \u001b[0;36m2\u001b[0m\u001b[0;34m,\u001b[0m\u001b[0;36m3\u001b[0m\u001b[0;34m,\u001b[0m\u001b[0;36m4\u001b[0m\u001b[0;34m,\u001b[0m\u001b[0;36m5\u001b[0m\u001b[0;34m,\u001b[0m\u001b[0;36m6\u001b[0m\u001b[0;34m,\u001b[0m\u001b[0;36m7\u001b[0m\u001b[0;34m]\u001b[0m\u001b[0;34m,\u001b[0m \u001b[0;34m[\u001b[0m\u001b[0;34m'<18'\u001b[0m\u001b[0;34m,\u001b[0m\u001b[0;34m'35-44'\u001b[0m\u001b[0;34m,\u001b[0m\u001b[0;34m'18-24'\u001b[0m\u001b[0;34m,\u001b[0m\u001b[0;34m'45-49'\u001b[0m\u001b[0;34m,\u001b[0m\u001b[0;34m'50-55'\u001b[0m\u001b[0;34m,\u001b[0m\u001b[0;34m'56+'\u001b[0m\u001b[0;34m,\u001b[0m\u001b[0;34m'25-34'\u001b[0m\u001b[0;34m]\u001b[0m\u001b[0;34m)\u001b[0m\u001b[0;34m\u001b[0m\u001b[0m\n\u001b[1;32m      4\u001b[0m \u001b[0mplt\u001b[0m\u001b[0;34m.\u001b[0m\u001b[0mtitle\u001b[0m\u001b[0;34m(\u001b[0m\u001b[0;34m'Average Rating for Age'\u001b[0m\u001b[0;34m)\u001b[0m\u001b[0;34m\u001b[0m\u001b[0m\n\u001b[1;32m      5\u001b[0m \u001b[0;34m\u001b[0m\u001b[0m\n",
      "\u001b[0;31mAttributeError\u001b[0m: 'list' object has no attribute 'keys'"
     ]
    },
    {
     "data": {
      "image/png": "[encoded data removed]",
      "text/plain": [
       "<matplotlib.figure.Figure at 0x109d81bd0>"
      ]
     },
     "metadata": {},
     "output_type": "display_data"
    }
   ],
   "source": [
    "plt.boxplot([v[1] for v in age_dict])\n",
    "plt.xticks([1, 2,3,4,5,6,7], ['<18',18-24','25-34''35-44',45-49','50-55','56+'])\n",
    "plt.title('Average Rating for Age')\n",
    "\n",
    "plt.show()"
   ]
  },
  {
   "cell_type": "code",
   "execution_count": 126,
   "metadata": {
    "collapsed": true
   },
   "outputs": [],
   "source": [
    "occ_dict = dict()\n",
    "for i in range(21):\n",
    "    occ_dict[i]=list()\n",
    "for i in range(1,6041):\n",
    "    rate = ratedf.loc[user_gb.groups[i]][2].mean()\n",
    "    occ_dict[(userdf.loc[i-1])[3]].append(rate)\n"
   ]
  },
  {
   "cell_type": "code",
   "execution_count": 128,
   "metadata": {
    "collapsed": false
   },
   "outputs": [
    {
     "name": "stdout",
     "output_type": "stream",
     "text": [
      "[0, 1, 2, 3, 4, 5, 6, 7, 8, 9, 10, 11, 12, 13, 14, 15, 16, 17, 18, 19, 20]\n"
     ]
    },
    {
     "data": {
      "image/png": "[encoded data removed]",
      "text/plain": [
       "<matplotlib.figure.Figure at 0x108d0d8d0>"
      ]
     },
     "metadata": {},
     "output_type": "display_data"
    }
   ],
   "source": [
    "plt.boxplot([v for v in occ_dict.itervalues()])\n",
    "plt.title('Average Rating for Occupation')\n",
    "plt.show()"
   ]
  },
  {
   "cell_type": "code",
   "execution_count": 129,
   "metadata": {
    "collapsed": false
   },
   "outputs": [
    {
     "name": "stderr",
     "output_type": "stream",
     "text": [
      "/Library/Python/2.7/site-packages/pandas/core/indexing.py:128: SettingWithCopyWarning: \n",
      "A value is trying to be set on a copy of a slice from a DataFrame\n",
      "\n",
      "See the caveats in the documentation: http://pandas.pydata.org/pandas-docs/stable/indexing.html#indexing-view-versus-copy\n",
      "  self._setitem_with_indexer(indexer, value)\n"
     ]
    },
    {
     "ename": "NameError",
     "evalue": "name 're' is not defined",
     "output_type": "error",
     "traceback": [
      "\u001b[0;31m---------------------------------------------------------------------------\u001b[0m",
      "\u001b[0;31mNameError\u001b[0m                                 Traceback (most recent call last)",
      "\u001b[0;32m<ipython-input-129-a7fc8a55f5ee>\u001b[0m in \u001b[0;36m<module>\u001b[0;34m()\u001b[0m\n\u001b[1;32m      7\u001b[0m     \u001b[0;32mfor\u001b[0m \u001b[0mgenre\u001b[0m \u001b[0;32min\u001b[0m \u001b[0mgenres\u001b[0m\u001b[0;34m:\u001b[0m\u001b[0;34m\u001b[0m\u001b[0m\n\u001b[1;32m      8\u001b[0m         \u001b[0;34m(\u001b[0m\u001b[0mmoviedf\u001b[0m\u001b[0;34m[\u001b[0m\u001b[0mgenre\u001b[0m\u001b[0;34m]\u001b[0m\u001b[0;34m)\u001b[0m\u001b[0;34m.\u001b[0m\u001b[0mloc\u001b[0m\u001b[0;34m[\u001b[0m\u001b[0mindex\u001b[0m\u001b[0;34m]\u001b[0m\u001b[0;34m=\u001b[0m\u001b[0;36m1\u001b[0m\u001b[0;34m\u001b[0m\u001b[0m\n\u001b[0;32m----> 9\u001b[0;31m \u001b[0mpat\u001b[0m \u001b[0;34m=\u001b[0m \u001b[0mre\u001b[0m\u001b[0;34m.\u001b[0m\u001b[0mcompile\u001b[0m\u001b[0;34m(\u001b[0m\u001b[0;34m\"\\(([0-9]+)\\)\"\u001b[0m\u001b[0;34m)\u001b[0m\u001b[0;34m\u001b[0m\u001b[0m\n\u001b[0m\u001b[1;32m     10\u001b[0m \u001b[0;32mprint\u001b[0m \u001b[0mpat\u001b[0m\u001b[0;34m.\u001b[0m\u001b[0msearch\u001b[0m\u001b[0;34m(\u001b[0m\u001b[0;34m'aaa(1995)'\u001b[0m\u001b[0;34m)\u001b[0m\u001b[0;34m.\u001b[0m\u001b[0mgroup\u001b[0m\u001b[0;34m(\u001b[0m\u001b[0;36m1\u001b[0m\u001b[0;34m)\u001b[0m\u001b[0;34m\u001b[0m\u001b[0m\n\u001b[1;32m     11\u001b[0m \u001b[0myears\u001b[0m \u001b[0;34m=\u001b[0m \u001b[0;34m[\u001b[0m\u001b[0;34m(\u001b[0m\u001b[0mint\u001b[0m\u001b[0;34m(\u001b[0m\u001b[0mpat\u001b[0m\u001b[0;34m.\u001b[0m\u001b[0msearch\u001b[0m\u001b[0;34m(\u001b[0m\u001b[0ms\u001b[0m\u001b[0;34m)\u001b[0m\u001b[0;34m.\u001b[0m\u001b[0mgroup\u001b[0m\u001b[0;34m(\u001b[0m\u001b[0;36m1\u001b[0m\u001b[0;34m)\u001b[0m\u001b[0;34m[\u001b[0m\u001b[0;36m2\u001b[0m\u001b[0;34m:\u001b[0m\u001b[0;34m]\u001b[0m\u001b[0;34m)\u001b[0m\u001b[0;34m-\u001b[0m\u001b[0;36m1\u001b[0m\u001b[0;34m)\u001b[0m\u001b[0;34m/\u001b[0m\u001b[0;36m10\u001b[0m \u001b[0;32mfor\u001b[0m \u001b[0ms\u001b[0m \u001b[0;32min\u001b[0m \u001b[0mmoviedf\u001b[0m\u001b[0;34m[\u001b[0m\u001b[0;36m1\u001b[0m\u001b[0;34m]\u001b[0m\u001b[0;34m]\u001b[0m\u001b[0;34m\u001b[0m\u001b[0m\n",
      "\u001b[0;31mNameError\u001b[0m: name 're' is not defined"
     ]
    }
   ],
   "source": [
    "genres=['Action','Adventure','Animation',\"Children's\",'Comedy','Crime','Documentary','Drama',\\\n",
    " 'Fantasy','Film-Noir','Horror','Musical','Mystery','Romance','Sci-Fi','Thriller','War','Western']\n",
    "for g in genres:\n",
    "    moviedf[g] = np.zeros(len(moviedf))\n",
    "\n",
    "for index in moviedf.index:\n",
    "    genres = moviedf.loc[index][2].split('|')\n",
    "    for genre in genres:\n",
    "        (moviedf[genre]).loc[index]=1\n"
   ]
  },
  {
   "cell_type": "code",
   "execution_count": 130,
   "metadata": {
    "collapsed": false
   },
   "outputs": [
    {
     "name": "stdout",
     "output_type": "stream",
     "text": [
      "1995\n",
      "                               1               2  Action  Adventure  \\\n",
      "0                                                                     \n",
      "3948     Meet the Parents (2000)          Comedy     0.0        0.0   \n",
      "3949  Requiem for a Dream (2000)           Drama     0.0        0.0   \n",
      "3950            Tigerland (2000)           Drama     0.0        0.0   \n",
      "3951     Two Family House (2000)           Drama     0.0        0.0   \n",
      "3952       Contender, The (2000)  Drama|Thriller     0.0        0.0   \n",
      "\n",
      "      Animation  Children's  Comedy  Crime  Documentary  Drama   ...    \\\n",
      "0                                                                ...     \n",
      "3948        0.0         0.0     1.0    0.0          0.0    0.0   ...     \n",
      "3949        0.0         0.0     0.0    0.0          0.0    1.0   ...     \n",
      "3950        0.0         0.0     0.0    0.0          0.0    1.0   ...     \n",
      "3951        0.0         0.0     0.0    0.0          0.0    1.0   ...     \n",
      "3952        0.0         0.0     0.0    0.0          0.0    1.0   ...     \n",
      "\n",
      "      Western  year_1  year_2  year_3  year_4  year_5  year_6  year_7  year_8  \\\n",
      "0                                                                               \n",
      "3948      0.0     0.0     0.0     0.0     0.0     0.0     0.0     0.0     0.0   \n",
      "3949      0.0     0.0     0.0     0.0     0.0     0.0     0.0     0.0     0.0   \n",
      "3950      0.0     0.0     0.0     0.0     0.0     0.0     0.0     0.0     0.0   \n",
      "3951      0.0     0.0     0.0     0.0     0.0     0.0     0.0     0.0     0.0   \n",
      "3952      0.0     0.0     0.0     0.0     0.0     0.0     0.0     0.0     0.0   \n",
      "\n",
      "      year_9  \n",
      "0             \n",
      "3948     1.0  \n",
      "3949     1.0  \n",
      "3950     1.0  \n",
      "3951     1.0  \n",
      "3952     1.0  \n",
      "\n",
      "[5 rows x 29 columns]\n"
     ]
    }
   ],
   "source": [
    "import re\n",
    "pat = re.compile(\"\\(([0-9]+)\\)\")\n",
    "print pat.search('aaa(1995)').group(1)\n",
    "years = [(int(pat.search(s).group(1)[2:])-1)/10 for s in moviedf[1]]\n",
    "years = [9 if x==-1 else x for x in years]\n",
    "moviedf['year'] = years\n",
    "moviedf = pd.concat([moviedf,pd.get_dummies(moviedf['year'],prefix='year')],axis=1)\n",
    "moviedf = moviedf.drop('year',axis=1)\n",
    "moviedf.tail()\n",
    "print moviedf.tail()"
   ]
  },
  {
   "cell_type": "code",
   "execution_count": 143,
   "metadata": {
    "collapsed": true
   },
   "outputs": [],
   "source": [
    "movie_gb = ratedf[2].groupby(ratedf[1])"
   ]
  },
  {
   "cell_type": "code",
   "execution_count": 163,
   "metadata": {
    "collapsed": false
   },
   "outputs": [
    {
     "name": "stdout",
     "output_type": "stream",
     "text": [
      "1603\n",
      "4\n",
      "11\n",
      "14\n",
      "16\n",
      "17\n",
      "21\n",
      "22\n",
      "24\n",
      "25\n",
      "26\n",
      "27\n",
      "30\n",
      "31\n",
      "32\n",
      "34\n",
      "35\n",
      "36\n",
      "40\n",
      "41\n",
      "42\n",
      "43\n",
      "45\n",
      "46\n",
      "49\n",
      "51\n",
      "53\n",
      "55\n",
      "57\n",
      "58\n"
     ]
    },
    {
     "ename": "KeyboardInterrupt",
     "evalue": "",
     "output_type": "error",
     "traceback": [
      "\u001b[0;31m---------------------------------------------------------------------------\u001b[0m",
      "\u001b[0;31mKeyboardInterrupt\u001b[0m                         Traceback (most recent call last)",
      "\u001b[0;32m<ipython-input-163-c20b0d3da0bc>\u001b[0m in \u001b[0;36m<module>\u001b[0;34m()\u001b[0m\n\u001b[1;32m      7\u001b[0m     \u001b[0;32mfor\u001b[0m \u001b[0mi\u001b[0m \u001b[0;32min\u001b[0m \u001b[0mindex\u001b[0m\u001b[0;34m:\u001b[0m\u001b[0;34m\u001b[0m\u001b[0m\n\u001b[1;32m      8\u001b[0m         \u001b[0;32mprint\u001b[0m \u001b[0mi\u001b[0m\u001b[0;34m\u001b[0m\u001b[0m\n\u001b[0;32m----> 9\u001b[0;31m         \u001b[0;32mif\u001b[0m \u001b[0mi\u001b[0m \u001b[0;32min\u001b[0m \u001b[0mlist\u001b[0m\u001b[0;34m(\u001b[0m\u001b[0mmovie_gb\u001b[0m\u001b[0;34m.\u001b[0m\u001b[0mkeys\u001b[0m\u001b[0;34m)\u001b[0m\u001b[0;34m:\u001b[0m \u001b[0mgenre_dict\u001b[0m\u001b[0;34m[\u001b[0m\u001b[0mg\u001b[0m\u001b[0;34m]\u001b[0m\u001b[0;34m.\u001b[0m\u001b[0mappend\u001b[0m\u001b[0;34m(\u001b[0m\u001b[0mratedf\u001b[0m\u001b[0;34m.\u001b[0m\u001b[0mloc\u001b[0m\u001b[0;34m[\u001b[0m\u001b[0mmovie_gb\u001b[0m\u001b[0;34m.\u001b[0m\u001b[0mgroups\u001b[0m\u001b[0;34m[\u001b[0m\u001b[0mi\u001b[0m\u001b[0;34m]\u001b[0m\u001b[0;34m]\u001b[0m\u001b[0;34m[\u001b[0m\u001b[0;36m2\u001b[0m\u001b[0;34m]\u001b[0m\u001b[0;34m.\u001b[0m\u001b[0mmean\u001b[0m\u001b[0;34m(\u001b[0m\u001b[0;34m)\u001b[0m\u001b[0;34m)\u001b[0m\u001b[0;34m\u001b[0m\u001b[0m\n\u001b[0m",
      "\u001b[0;31mKeyboardInterrupt\u001b[0m: "
     ]
    }
   ],
   "source": [
    "genre_dict = dict()\n",
    "for g in genres:\n",
    "    genre_dict[g]=list()\n",
    "for g in genres[:1]:\n",
    "    index = moviedf.index[moviedf[g].nonzero()[0]]\n",
    "    print len(index)\n",
    "    for i in index:\n",
    "        print i\n",
    "        if i in list(movie_gb.keys): genre_dict[g].append(ratedf.loc[movie_gb.groups[i]][2].mean())"
   ]
  },
  {
   "cell_type": "raw",
   "metadata": {},
   "source": [
    "plt.boxplot([v for v in genre_dict.itervalues()])\n",
    "plt.title('Average Rating for Each Movie Genre')\n",
    "plt.show()"
   ]
  },
  {
   "cell_type": "code",
   "execution_count": null,
   "metadata": {
    "collapsed": true
   },
   "outputs": [],
   "source": []
  }
 ],
 "metadata": {
  "kernelspec": {
   "display_name": "Python 2",
   "language": "python",
   "name": "python2"
  },
  "language_info": {
   "codemirror_mode": {
    "name": "ipython",
    "version": 2
   },
   "file_extension": ".py",
   "mimetype": "text/x-python",
   "name": "python",
   "nbconvert_exporter": "python",
   "pygments_lexer": "ipython2",
   "version": "2.7.10"
  }
 },
 "nbformat": 4,
 "nbformat_minor": 0
}
